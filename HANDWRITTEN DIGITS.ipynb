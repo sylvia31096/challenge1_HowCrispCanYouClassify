{
 "cells": [
  {
   "cell_type": "markdown",
   "metadata": {},
   "source": [
    "# HANDWRITTEN DIGITS\n",
    "This is a classifier for handwritten digits from 0 to 9. It has 64 input features."
   ]
  },
  {
   "cell_type": "markdown",
   "metadata": {},
   "source": [
    "Importing the libraries to be used."
   ]
  },
  {
   "cell_type": "code",
   "execution_count": 3,
   "metadata": {
    "collapsed": false
   },
   "outputs": [],
   "source": [
    "import matplotlib.pyplot as plt #plotting\n",
    "import numpy as np #storing and manipulating data in arrays for this case\n",
    "from sklearn.model_selection import KFold #check for overfitting\n",
    "from sklearn.neighbors import KNeighborsClassifier #classification model to be used \n",
    "from sklearn.metrics import accuracy_score,confusion_matrix #assessing the accuracy of the model.\n",
    "import pandas as pd #loading from and saving to csv files\n",
    " \n",
    "%matplotlib inline\n"
   ]
  },
  {
   "cell_type": "markdown",
   "metadata": {},
   "source": [
    "First I'll load the data from the csv file. The first column just indexes the rows it does not contain actual features so I'll drop it. x is an array made up of the inputs."
   ]
  },
  {
   "cell_type": "code",
   "execution_count": 4,
   "metadata": {
    "collapsed": false
   },
   "outputs": [],
   "source": [
    "df=pd.read_csv(\"C:/Users/Sylvia/Desktop/comp improvement/data science/Challenge1_HowCrispCanYouClassify-master/data/digits_train.csv\")\n",
    "df=df.drop(df.columns[[0]],axis = 1)\n",
    "x= df.values[:,0:64]\n",
    "y = df.values[:,64]"
   ]
  },
  {
   "cell_type": "markdown",
   "metadata": {},
   "source": [
    "First I'd like a view of the data. Since it is an image I'll assume these are pixel data made up of an 8 by 8 square matrix. I'll check 2 numbers."
   ]
  },
  {
   "cell_type": "code",
   "execution_count": 5,
   "metadata": {
    "collapsed": false
   },
   "outputs": [
    {
     "name": "stdout",
     "output_type": "stream",
     "text": [
      "6 0\n"
     ]
    },
    {
     "data": {
      "image/png": "[encoded data removed]",
      "text/plain": [
       "<matplotlib.figure.Figure at 0x254590b8208>"
      ]
     },
     "metadata": {},
     "output_type": "display_data"
    }
   ],
   "source": [
    "x0 = np.reshape (x[0], (-1,8))\n",
    "plt.subplot(251)\n",
    "plt.imshow(x0,cmap=plt.get_cmap('gray'))\n",
    "\n",
    "\n",
    "x36 = np.reshape (x[36], (-1,8))\n",
    "plt.subplot(252)\n",
    "plt.imshow(x36,cmap=plt.get_cmap('gray'))\n",
    "\n",
    "print(df.get_value(0,\"labels\"),df.get_value(36,\"labels\"))#confirmation of the actual y values \n"
   ]
  },
  {
   "cell_type": "markdown",
   "metadata": {},
   "source": [
    "They do look like the numbers 6 and 0 (But with really poor graphics.)"
   ]
  },
  {
   "cell_type": "markdown",
   "metadata": {},
   "source": [
    "I'll get the mean of 0 to 9 and then the mean of all the numbers"
   ]
  },
  {
   "cell_type": "markdown",
   "metadata": {},
   "source": [
    "mean of each number"
   ]
  },
  {
   "cell_type": "code",
   "execution_count": 6,
   "metadata": {
    "collapsed": false
   },
   "outputs": [
    {
     "data": {
      "image/png": "[encoded data removed]",
      "text/plain": [
       "<matplotlib.figure.Figure at 0x254594b9ac8>"
      ]
     },
     "metadata": {},
     "output_type": "display_data"
    }
   ],
   "source": [
    "\n",
    "array=[]\n",
    "sub = 1\n",
    "col=0\n",
    "\n",
    "for i in range (0,10):\n",
    "    array.append(df.loc[df['labels']==i].values[:,0:64])\n",
    "for i in array:\n",
    "   \n",
    "    mean = np.mean(i,axis = 0)\n",
    "    \n",
    "    mean = np.reshape (mean, (-1,8))\n",
    "    \n",
    "    if (sub>5):\n",
    "        sub=1\n",
    "        col=1\n",
    "    \n",
    "        \n",
    "    plt.subplot2grid((2,6),(col,sub))\n",
    "    plt.imshow(mean,cmap=plt.get_cmap('gray'))\n",
    "    sub+=1\n",
    "    \n",
    "\n",
    "    \n",
    "    "
   ]
  },
  {
   "cell_type": "markdown",
   "metadata": {},
   "source": [
    "mean of all numbers"
   ]
  },
  {
   "cell_type": "code",
   "execution_count": 7,
   "metadata": {
    "collapsed": false
   },
   "outputs": [
    {
     "data": {
      "text/plain": [
       "<matplotlib.image.AxesImage at 0x254590a1cc0>"
      ]
     },
     "execution_count": 7,
     "metadata": {},
     "output_type": "execute_result"
    },
    {
     "data": {
      "image/png": "[encoded data removed]",
      "text/plain": [
       "<matplotlib.figure.Figure at 0x25459786ba8>"
      ]
     },
     "metadata": {},
     "output_type": "display_data"
    }
   ],
   "source": [
    "totalmean = np.mean(x,axis = 0)\n",
    "totalmean = np.reshape (totalmean, (-1,8))\n",
    "\n",
    "plt.imshow(totalmean,cmap=plt.get_cmap('gray'))"
   ]
  },
  {
   "cell_type": "markdown",
   "metadata": {},
   "source": [
    "It just looks like a smudge but it does give some insightful information. It seems that according to the data there is no writing (for all the numbers) on the very left and very right.The columns indexed 0 and 8 seem to be simply for padding and don't add any weight to the hypotheses. Most writings are concentrated towards the center. Most numbers tend to have 'parts of them' at the middle top and middle bottom; in fact confirming it from the previous graph confirms this is true for all numbers.\n"
   ]
  },
  {
   "cell_type": "code",
   "execution_count": 8,
   "metadata": {
    "collapsed": false,
    "scrolled": true
   },
   "outputs": [
    {
     "data": {
      "text/plain": [
       "array([[  0.00000000e+00,   2.90000000e-01,   5.39275000e+00,\n",
       "          1.18657500e+01,   1.15687500e+01,   5.63025000e+00,\n",
       "          1.36900000e+00,   1.32750000e-01],\n",
       "       [  3.25000000e-03,   1.95625000e+00,   1.06055000e+01,\n",
       "          1.17972500e+01,   1.05385000e+01,   8.27425000e+00,\n",
       "          2.07100000e+00,   1.39000000e-01],\n",
       "       [  4.75000000e-03,   2.62100000e+00,   9.63200000e+00,\n",
       "          6.73325000e+00,   7.21725000e+00,   8.00700000e+00,\n",
       "          1.90750000e+00,   4.77500000e-02],\n",
       "       [  1.25000000e-03,   2.33450000e+00,   9.11700000e+00,\n",
       "          9.09350000e+00,   9.80075000e+00,   7.75975000e+00,\n",
       "          2.31925000e+00,   3.50000000e-03],\n",
       "       [  7.50000000e-04,   2.09075000e+00,   7.64825000e+00,\n",
       "          9.25725000e+00,   1.03252500e+01,   9.04975000e+00,\n",
       "          2.91700000e+00,   0.00000000e+00],\n",
       "       [  2.40000000e-02,   1.44000000e+00,   6.56200000e+00,\n",
       "          7.22775000e+00,   7.85575000e+00,   8.53350000e+00,\n",
       "          3.48875000e+00,   2.27500000e-02],\n",
       "       [  1.80000000e-02,   7.82250000e-01,   7.77850000e+00,\n",
       "          9.84800000e+00,   9.69625000e+00,   9.13525000e+00,\n",
       "          3.77825000e+00,   1.67750000e-01],\n",
       "       [  5.00000000e-04,   2.79250000e-01,   5.76200000e+00,\n",
       "          1.20450000e+01,   1.15247500e+01,   6.66400000e+00,\n",
       "          2.06925000e+00,   2.58500000e-01]])"
      ]
     },
     "execution_count": 8,
     "metadata": {},
     "output_type": "execute_result"
    }
   ],
   "source": [
    "totalmean "
   ]
  },
  {
   "cell_type": "markdown",
   "metadata": {},
   "source": [
    "From above it can be seen that it true that on the utmost left and right for all numbers the value is 0"
   ]
  },
  {
   "cell_type": "markdown",
   "metadata": {},
   "source": [
    "Now I'm going to create the model for classification. I will be using k nearest neighbours. I will use 5 neighbours because on iterating between 2 to 20 it better than all of them. I would also like to ensure that my data isn't overfitting so I'll do a k-fold validation first. I'll use 10 k-folds cause it seems to be the conventional one."
   ]
  },
  {
   "cell_type": "code",
   "execution_count": 9,
   "metadata": {
    "collapsed": false
   },
   "outputs": [
    {
     "name": "stdout",
     "output_type": "stream",
     "text": [
      "0.9875\n",
      "0.995\n",
      "0.9825\n",
      "0.985\n",
      "0.9725\n",
      "0.9875\n",
      "0.985\n",
      "0.98\n",
      "0.9825\n",
      "0.9875\n"
     ]
    }
   ],
   "source": [
    "neigh = KNeighborsClassifier(n_neighbors=4)\n",
    "kf = KFold(n_splits = 10 ,random_state = None, shuffle = False)\n",
    "for train_indices,test_indices in kf.split(x):\n",
    "    X_Train, X_Test =x[train_indices],x[test_indices]\n",
    "    Y_Train, Y_Test = y[train_indices],y[test_indices]\n",
    "    neigh.fit(X_Train,Y_Train)\n",
    "    y_pred = neigh.predict(X_Test)\n",
    "    print(accuracy_score(Y_Test,y_pred))\n",
    "   "
   ]
  },
  {
   "cell_type": "markdown",
   "metadata": {},
   "source": [
    "It is clear that the model isn't overfitting so I will go and use it to predict the test data"
   ]
  },
  {
   "cell_type": "code",
   "execution_count": 10,
   "metadata": {
    "collapsed": false
   },
   "outputs": [
    {
     "name": "stdout",
     "output_type": "stream",
     "text": [
      "0.99\n"
     ]
    }
   ],
   "source": [
    "neighAll = KNeighborsClassifier(n_neighbors=5)\n",
    "neighAll.fit(x,y)\n",
    "y_predAll = neighAll.predict(x)\n",
    "print(accuracy_score(y,y_predAll))\n"
   ]
  },
  {
   "cell_type": "markdown",
   "metadata": {},
   "source": [
    "I would like to assess the accuracy much further using a confusion matrix.The columns indicate prediction and rows indicate the actual values. "
   ]
  },
  {
   "cell_type": "code",
   "execution_count": 11,
   "metadata": {
    "collapsed": false
   },
   "outputs": [
    {
     "name": "stdout",
     "output_type": "stream",
     "text": [
      "[[382   0   0   0   1   0   1   0   0   0]\n",
      " [  0 393   0   0   0   0   0   1   0   1]\n",
      " [  0   0 395   0   0   0   0   1   0   0]\n",
      " [  0   0   0 409   0   1   0   1   0   1]\n",
      " [  0   1   0   0 379   0   2   1   0   3]\n",
      " [  0   0   0   2   0 398   0   0   0   4]\n",
      " [  0   2   0   0   0   0 396   0   0   0]\n",
      " [  0   0   0   1   0   0   0 412   0   1]\n",
      " [  0   8   0   1   0   0   0   0 388   0]\n",
      " [  0   0   0   3   0   1   0   0   2 408]]\n"
     ]
    }
   ],
   "source": [
    "labels = [0,1,2,3,4,5,6,7,8,9]\n",
    "print(confusion_matrix(y,y_predAll,labels=labels))"
   ]
  },
  {
   "cell_type": "markdown",
   "metadata": {},
   "source": [
    "Loading the test files. "
   ]
  },
  {
   "cell_type": "code",
   "execution_count": 12,
   "metadata": {
    "collapsed": false
   },
   "outputs": [],
   "source": [
    "dfTest=pd.read_csv(\"C:/Users/Sylvia/Desktop/comp improvement/data science/Challenge1_HowCrispCanYouClassify-master/data/digits_test.csv\")\n",
    "dfTest=dfTest.drop(dfTest.columns[[0]],axis = 1)\n",
    "xTest= df.values[:,0:64]\n"
   ]
  },
  {
   "cell_type": "markdown",
   "metadata": {},
   "source": [
    "Predicting the test values. "
   ]
  },
  {
   "cell_type": "code",
   "execution_count": 13,
   "metadata": {
    "collapsed": false
   },
   "outputs": [],
   "source": [
    "prediction= neighAll.predict(xTest)\n",
    "pd.DataFrame(prediction,columns=['labels']).to_csv('digits_submission.csv') #save in csv file"
   ]
  },
  {
   "cell_type": "code",
   "execution_count": null,
   "metadata": {
    "collapsed": true
   },
   "outputs": [],
   "source": []
  }
 ],
 "metadata": {
  "anaconda-cloud": {},
  "kernelspec": {
   "display_name": "Python [tensorflow]",
   "language": "python",
   "name": "Python [tensorflow]"
  },
  "language_info": {
   "codemirror_mode": {
    "name": "ipython",
    "version": 3
   },
   "file_extension": ".py",
   "mimetype": "text/x-python",
   "name": "python",
   "nbconvert_exporter": "python",
   "pygments_lexer": "ipython3",
   "version": "3.5.4"
  }
 },
 "nbformat": 4,
 "nbformat_minor": 0
}
